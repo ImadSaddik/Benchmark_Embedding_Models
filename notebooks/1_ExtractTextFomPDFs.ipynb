{
 "cells": [
  {
   "cell_type": "markdown",
   "id": "60ad8955",
   "metadata": {},
   "source": [
    "# Extract text from PDFs"
   ]
  },
  {
   "cell_type": "markdown",
   "id": "926225bc",
   "metadata": {},
   "source": [
    "Extracting text from PDFs is challenging because these files may be scanned, have complex layouts, or contain unstructured data such as images and tables. When building a dataset to benchmark embedding models, it is important to avoid noisy, poorly formatted, or merged text between sections.\n",
    "\n",
    "Libraries like [PyMuPDF](https://github.com/pymupdf/PyMuPDF), [PyPDF2](https://github.com/py-pdf/pypdf), and [pdfplumber](https://github.com/jsvine/pdfplumber) can extract text from simple PDFs. However, they are ineffective when dealing with unstructured data or scanned documents. Embedding models, unlike LLMs, cannot interpret the context or structure of a document. They simply embed whatever text they receive, regardless of its quality.\n",
    "\n",
    "Therefore, it is essential to ensure that the extracted text is clean and well-structured. Modern LLMs excel at reading images and understanding text, allowing us to leverage them to extract text from PDFs in a format that closely matches how a human would perceive the document."
   ]
  },
  {
   "cell_type": "markdown",
   "id": "a0c30bdb",
   "metadata": {},
   "source": [
    "## Normal PDF"
   ]
  },
  {
   "cell_type": "markdown",
   "id": "46cb60f8",
   "metadata": {},
   "source": [
    "By a `normal PDF`, I mean a document that is not scanned and contains selectable text that can be extracted directly. Let's use the `pymupdf` library to extract text from each page of the PDF."
   ]
  },
  {
   "cell_type": "code",
   "execution_count": 15,
   "id": "4c8ed21e",
   "metadata": {},
   "outputs": [
    {
     "name": "stdout",
     "output_type": "stream",
     "text": [
      "Number of pages: 26\n"
     ]
    }
   ],
   "source": [
    "import pymupdf\n",
    "\n",
    "pdf_path = \"../data/documents/the_state_of_ai_how_organizations_are_rewiring_to_capture_value_final.pdf\"\n",
    "document = pymupdf.open(pdf_path)\n",
    "print(f\"Number of pages: {document.page_count}\")"
   ]
  },
  {
   "cell_type": "code",
   "execution_count": 7,
   "id": "ce37ce55",
   "metadata": {},
   "outputs": [
    {
     "name": "stdout",
     "output_type": "stream",
     "text": [
      "Extracted 50979 characters of text.\n"
     ]
    }
   ],
   "source": [
    "extracted_text = \"\"\n",
    "for page in document:\n",
    "    extracted_text += page.get_text()\n",
    "print(f\"Extracted {len(extracted_text)} characters of text.\")"
   ]
  },
  {
   "cell_type": "markdown",
   "id": "f1b7ef8c",
   "metadata": {},
   "source": [
    "We successfully extracted text from the PDF, but is it well-structured? Let's examine the first 2,000 characters to find out."
   ]
  },
  {
   "cell_type": "code",
   "execution_count": 8,
   "id": "7efddd0d",
   "metadata": {},
   "outputs": [
    {
     "name": "stdout",
     "output_type": "stream",
     "text": [
      "The state of AI  \n",
      "March 2025\n",
      "Alex Singla  \n",
      "Alexander Sukharevsky  \n",
      "Lareina Yee  \n",
      "Michael Chui \n",
      "Bryce Hall\n",
      "How organizations are rewiring to capture value\n",
      "Organizations are beginning to create the \n",
      "structures and processes that lead to \n",
      "meaningful value from gen AI. While  \n",
      "still in early days, companies are  \n",
      "redesigning workflows, elevating  \n",
      "governance, and mitigating  \n",
      "more risks.   \n",
      "O\n",
      "rganizations are starting to make \n",
      "organizational changes designed to \n",
      "generate future value from gen AI, and \n",
      "large companies are leading the way. The \n",
      "latest McKinsey Global Survey on AI finds \n",
      "that organizations are beginning to take steps that drive \n",
      "bottom-line impact—for example, redesigning workflows as \n",
      "they deploy gen AI and putting senior leaders in critical roles, \n",
      "such as overseeing AI governance. The findings also show \n",
      "that organizations are working to mitigate a growing set of \n",
      "gen-AI-related risks and are hiring for new AI-related roles \n",
      "while they retrain employees to participate in AI deployment. \n",
      "Companies with at least $500 million in annual revenue \n",
      "are changing more quickly than smaller organizations. \n",
      "Overall, the use of AI—that is, gen AI as well as analytical \n",
      "AI—continues to build momentum: More than three-quarters \n",
      "of respondents now say that their organizations use AI in at \n",
      "least one business function. The use of gen AI in particular  \n",
      "is rapidly increasing. \n",
      "1\n",
      "The state of AI: How organizations are rewiring to capture value\n",
      "How companies are organizing \n",
      "their gen AI deployment—\n",
      "and who’s in charge    \n",
      " \n",
      "Our survey analyses show that a CEO’s oversight of AI governance—that is, the policies, \n",
      "processes, and technology necessary to develop and deploy AI systems responsibly—is one \n",
      "element most correlated with higher self-reported bottom-line impact from an organization’s \n",
      "gen AI use.1 That’s particularly true at larger companies, where CEO oversight is the element with \n",
      "the most impact on EBIT attributable to gen AI. Twenty-eight percent of respondents wh\n"
     ]
    }
   ],
   "source": [
    "print(extracted_text[:2000])"
   ]
  },
  {
   "cell_type": "markdown",
   "id": "13a5361e",
   "metadata": {},
   "source": [
    "The answer is no, the text is not well-structured. This becomes clear on page 4, which contains a stacked bar chart.\n",
    "\n",
    "![example_of_unstructured_data_in_pdf](../images/example_of_unstructured_data_in_pdf.jpg)"
   ]
  },
  {
   "cell_type": "code",
   "execution_count": 9,
   "id": "3bbd517a",
   "metadata": {},
   "outputs": [
    {
     "name": "stdout",
     "output_type": "stream",
     "text": [
      "Organizations are selectively centralizing elements of their  \n",
      "AI deployment \n",
      "The survey findings also shed light on how organizations are structuring their AI deployment \n",
      "efforts. Some essential elements for deploying AI tend to be fully or partially centralized  \n",
      "(Exhibit 1). For risk and compliance, as well as data governance, organizations often use a fully \n",
      "centralized model such as a center of excellence. For tech talent and adoption of AI solutions, \n",
      "on the other hand, respondents most often report using a hybrid or partially centralized model, \n",
      "with some resources handled centrally and others distributed across functions or business \n",
      "units—though respondents at organizations with less than $500 million in annual revenues  \n",
      "are more likely than others to report fully centralizing these elements. \n",
      "Exhibit 1\n",
      "Degree of centralization of AI deployment,¹ % of respondents\n",
      "McKinsey & Company\n",
      "¹Question was asked only of respondents whose organizations use AI in at least 1 function, n = 1,229. Figures were calculated after removing the share who said \n",
      "“don’t know/not applicable.”\n",
      "Source: McKinsey Global Survey on the state of AI, 1,491 participants at all levels of the organization, July 16–31, 2024\n",
      "Risk and data governance are two of the most centralized elements of \n",
      "deploying AI solutions, whereas tech talent is often hybrid.\n",
      "57\n",
      "46\n",
      "36\n",
      "35\n",
      "29\n",
      "23\n",
      "30\n",
      "39\n",
      "48\n",
      "44\n",
      "49\n",
      "54\n",
      "13\n",
      "15\n",
      "16\n",
      "21\n",
      "22\n",
      "23\n",
      "Fully centralized \n",
      "(eg, a hub or center \n",
      "of excellence is \n",
      "responsible across \n",
      "the organization)\n",
      "Hybrid (eg, some \n",
      "resources are\n",
      "primarily centralized\n",
      "and some are\n",
      "distributed across \n",
      "function)\n",
      "Fully distributed\n",
      "(eg, all resources \n",
      "live within the\n",
      "business functions)\n",
      "Risk and\n",
      "compliance\n",
      "Data\n",
      "governance \n",
      "for AI\n",
      "AI strategy\n",
      "Road map for \n",
      "AI-enhanced \n",
      "or AI-focused \n",
      "products\n",
      "Tech talent (eg, \n",
      "data engineers \n",
      "and machine \n",
      "learning\n",
      "engineers)\n",
      "Adoption\n",
      "of AI solutions \n",
      "(including \n",
      "changing pro-\n",
      "cesses, change \n",
      "management)\n",
      "CENTRALIZED\n",
      "“HUB” MODEL\n",
      "DECENTRALIZED\n",
      "“SPOKE” MODEL\n",
      "4\n",
      "The state of AI: How organizations are rewiring to capture value\n",
      "\n"
     ]
    }
   ],
   "source": [
    "page_number = 4\n",
    "print(document[page_number].get_text())"
   ]
  },
  {
   "cell_type": "markdown",
   "id": "f51d9eaf",
   "metadata": {},
   "source": [
    "Other libraries such as `PyPDF2` and `pdfplumber` produce similar results. However, with LLMs that can interpret both text and images, we can extract and reconstruct the entire content of a PDF in a well-structured format."
   ]
  },
  {
   "cell_type": "code",
   "execution_count": 16,
   "id": "c284c70d",
   "metadata": {},
   "outputs": [],
   "source": [
    "document.close()"
   ]
  },
  {
   "cell_type": "markdown",
   "id": "78ce900f",
   "metadata": {},
   "source": [
    "## Scanned PDF"
   ]
  },
  {
   "cell_type": "markdown",
   "id": "43a40261",
   "metadata": {},
   "source": [
    "Even if a PDF is scanned, we can still determine the number of pages it contains."
   ]
  },
  {
   "cell_type": "code",
   "execution_count": 17,
   "id": "a30d671f",
   "metadata": {},
   "outputs": [
    {
     "name": "stdout",
     "output_type": "stream",
     "text": [
      "Number of pages: 19\n"
     ]
    }
   ],
   "source": [
    "pdf_path = \"../data/documents/rog_strix_gaming_notebook_pc_scanned_file.pdf\"\n",
    "document = pymupdf.open(pdf_path)\n",
    "print(f\"Number of pages: {document.page_count}\")"
   ]
  },
  {
   "cell_type": "markdown",
   "id": "718e5c3c",
   "metadata": {},
   "source": [
    "As you can see, the output shows 0 characters. This is because the PDF is scanned and contains images of text, rather than actual text that can be extracted directly. Let's explore how to handle this using LLMs."
   ]
  },
  {
   "cell_type": "code",
   "execution_count": 21,
   "id": "b36efc96",
   "metadata": {},
   "outputs": [
    {
     "name": "stdout",
     "output_type": "stream",
     "text": [
      "Extracted 0 characters of text.\n"
     ]
    }
   ],
   "source": [
    "extracted_text = \"\"\n",
    "for page in document:\n",
    "    extracted_text += page.get_text()\n",
    "print(f\"Extracted {len(extracted_text)} characters of text.\")"
   ]
  },
  {
   "cell_type": "markdown",
   "id": "15e64163",
   "metadata": {},
   "source": [
    "## Extracting text from any PDF using LLMs"
   ]
  },
  {
   "cell_type": "markdown",
   "id": "60ece6ae",
   "metadata": {},
   "source": [
    "### With proprietary LLMs (Gemini)"
   ]
  },
  {
   "cell_type": "markdown",
   "id": "13ffa887",
   "metadata": {},
   "source": [
    "Let's see how to do this with Gemini. Gemini is a multimodal model that can process both text and images, or even an entire PDF file. You can use any other LLM you prefer.\n",
    "\n",
    "When passing a PDF to Gemini, ensure that the total input size (PDF plus prompt) is less than 20MB. For larger files, use the [File API](https://ai.google.dev/gemini-api/docs/document-processing#large-pdfs) to upload the document.\n",
    "\n",
    "Read more about [working with PDF files in Gemini](https://ai.google.dev/gemini-api/docs/document-processing)."
   ]
  },
  {
   "cell_type": "code",
   "execution_count": 13,
   "id": "3486cd8d",
   "metadata": {},
   "outputs": [
    {
     "data": {
      "text/plain": [
       "True"
      ]
     },
     "execution_count": 13,
     "metadata": {},
     "output_type": "execute_result"
    }
   ],
   "source": [
    "from dotenv import load_dotenv\n",
    "\n",
    "load_dotenv()"
   ]
  },
  {
   "cell_type": "markdown",
   "id": "ea69e373",
   "metadata": {},
   "source": [
    "Let's write a system prompt to teach the model how to extract text from the PDF."
   ]
  },
  {
   "cell_type": "code",
   "execution_count": 25,
   "id": "39d7907f",
   "metadata": {},
   "outputs": [],
   "source": [
    "system_prompt = \"\"\"You are an expert AI assistant, you are tasked with extracting the entire text from any PDF document. The document can be simple, complex, or even scanned, this shouldn't matter to you.\n",
    "\n",
    "You will be given the entire PDF as input. Start examining the document page by page, when you come across text, extract it as is don't convert it into another format like HTML or Markdown. If you come across images, replace them with a very detailed description of the image while taking into consideration the context around it.\n",
    "\n",
    "When you come across tables, describe them too like the image. The description should be very detailed and in a way that someone will understand the table without seeing it.\n",
    "\n",
    "Make sure to keep the structure of the document, if there are sections, subsections, bullet points, or numbered lists, make sure to keep them as is. If there are any headers, footers, page numbers, remove them.\n",
    "\n",
    "The final output should be a clean, well-structured text that represents the content of the entire PDF document as closely as possible to how a human would see it with their eyes when reading the document. Don't say anything else, just output the text you extracted from the PDF.\n",
    "\n",
    "Here is the PDF:\n",
    "\"\"\""
   ]
  },
  {
   "cell_type": "markdown",
   "id": "da077055",
   "metadata": {},
   "source": [
    "Submit the request and obtain the extracted text."
   ]
  },
  {
   "cell_type": "code",
   "execution_count": 3,
   "id": "41d2ba9f",
   "metadata": {},
   "outputs": [],
   "source": [
    "import pathlib\n",
    "\n",
    "from google import genai\n",
    "from google.genai import types\n",
    "\n",
    "client = genai.Client()\n",
    "filepath = pathlib.Path(\n",
    "    \"../data/documents/rog_strix_gaming_notebook_pc_scanned_file.pdf\"\n",
    ")\n",
    "prompt = \"Extract the text from the PDF please.\"\n",
    "response = client.models.generate_content(\n",
    "    model=\"gemini-2.5-flash\",\n",
    "    contents=[\n",
    "        system_prompt,\n",
    "        types.Part.from_bytes(\n",
    "            data=filepath.read_bytes(),\n",
    "            mime_type=\"application/pdf\",\n",
    "        ),\n",
    "        prompt,\n",
    "    ],\n",
    "    config=types.GenerateContentConfig(max_output_tokens=32_768),\n",
    ")"
   ]
  },
  {
   "cell_type": "markdown",
   "id": "f2030014",
   "metadata": {},
   "source": [
    "As you can see, the LLM was able to extract the text from the PDF in a well-structured format. Despite the document's low quality, tables were extracted in markdown format and the table of contents is clearly organized.\n",
    "\n",
    "However, this is not enough; we still need to manually review the output to make sure that only the relevant information is included in the benchmarking dataset."
   ]
  },
  {
   "cell_type": "code",
   "execution_count": 15,
   "id": "31648699",
   "metadata": {},
   "outputs": [
    {
     "name": "stdout",
     "output_type": "stream",
     "text": [
      "ROG STRIX\n",
      "GAMING NOTEBOOK PC\n",
      "\n",
      "COPYRIGHT INFORMATION\n",
      "No part of this manual, including the products and software described in it, may be reproduced, transmitted, transcribed, stored in a retrieval system, or translated into any language in any form or by any means, except documentation kept by the purchaser for backup purposes, without the express written permission of ASUSTeK COMPUTER INC. (\"ASUS\").\n",
      "\n",
      "ASUS PROVIDES THIS MANUAL \"AS IS\" WITHOUT WARRANTY OF ANY KIND, EITHER EXPRESS OR IMPLIED, INCLUDING BUT NOT LIMITED TO THE IMPLIED WARRANTIES OR CONDITIONS OF MERCHANTABILITY OR FITNESS FOR A PARTICULAR PURPOSE. IN NO EVENT SHALL ASUS, ITS DIRECTORS, OFFICERS, EMPLOYEES OR AGENTS BE LIABLE FOR ANY INDIRECT, SPECIAL, INCIDENTAL, OR CONSEQUENTIAL DAMAGES (INCLUDING DAMAGES FOR LOSS OF PROFITS, LOSS OF BUSINESS, LOSS OF USE OR DATA, INTERRUPTION OF BUSINESS AND THE LIKE), EVEN IF ASUS HAS BEEN ADVISED OF THE POSSIBILITY OF SUCH DAMAGES ARISING FROM ANY DEFECT OR ERROR IN THIS MANUAL OR PRODUCT.\n",
      "\n",
      "Products and corporate names appearing in this manual may or may not be registered trademarks or copyrights of their respective companies, and are used only for identification or explanation and to the owners' benefit, without intent to infringe.\n",
      "\n",
      "SPECIFICATIONS AND INFORMATION CONTAINED IN THIS MANUAL ARE FURNISHED FOR INFORMATIONAL USE ONLY, AND ARE SUBJECT TO CHANGE AT ANY TIME WITHOUT NOTICE, AND SHOULD NOT BE CONSTRUED AS A COMMITMENT BY ASUS. ASUS ASSUMES NO RESPONSIBILITY OR LIABILITY FOR ANY ERRORS OR INACCURACIES THAT MAY APPEAR IN THIS MANUAL, INCLUDING THE PRODUCTS AND SOFTWARE DESCRIBED IN IT.\n",
      "\n",
      "Copyright © 2024 ASUSTeK COMPUTER INC. All Rights Reserved.\n",
      "\n",
      "LIMITATION OF LIABILITY\n",
      "Circumstances may arise where because of a default on ASUS' part or other liability, you are entitled to recover damages from ASUS. In each such instance, regardless of the basis on which you are entitled to claim damages from ASUS, ASUS is liable for no more than damages for bodily injury (including death) and damage to real property and tangible personal property; or any other actual and direct damages resulted from omission or failure of performing legal duties under this Warranty Statement, up to the listed contract price of each product.\n",
      "\n",
      "ASUS will only be responsible for or indemnify you for loss, damages or claims based in contract, tort or infringement under this Warranty Statement.\n",
      "\n",
      "This limit also applies to ASUS' suppliers and its reseller. It is the maximum for which ASUS, its suppliers, and your reseller are collectively responsible.\n",
      "\n",
      "UNDER NO CIRCUMSTANCES IS ASUS LIABLE FOR ANY OF THE FOLLOWING: (1) THIRD-PARTY CLAIMS AGAINST YOU FOR DAMAGES; (2) LOSS OF, OR DAMAGE TO, YOUR RECORDS OR DATA; OR (3) SPECIAL, INCIDENTAL, OR INDIRECT DAMAGES OR FOR ANY ECONOMIC CONSEQUENTIAL DAMAGES (INCLUDING LOST PROFITS OR SAVINGS), EVEN IF ASUS, ITS SUPPLIERS OR YOUR RESELLER IS INFORMED OF THEIR POSSIBILITY.\n",
      "\n",
      "SERVICE AND SUPPORT\n",
      "Visit our multi-language website at https://www.asus.com/support/.\n",
      "\n",
      "MyASUS offers a variety of support features including troubleshooting, products performance optimization, ASUS software integration, and helps you to organize personal desktop and increase storage space. For more details, please visit https://www.asus.com/support/FAQ/1038301/\n",
      "\n",
      "Table of Contents\n",
      "About this manual....................................................................................7\n",
      "Conventions used in this manual ................................................................8\n",
      "Icons ...................................................................................................8\n",
      "Typography..........................................................................................8\n",
      "Safety precautions...................................................................................9\n",
      "Using your Notebook PC.........................................................................9\n",
      "Caring for your Notebook PC .................................................................10\n",
      "Proper disposal. ...................................................................................11\n",
      "Battery safety information......................................................................12\n",
      "\n",
      "Chapter 1: Hardware Setup\n",
      "Getting to know your Notebook PC ...........................................................16\n",
      "Front View.........................................................................................16\n",
      "Bottom View ......................................................................................22\n",
      "Right View.........................................................................................24\n",
      "Left View...........................................................................................25\n",
      "\n",
      "Chapter 2: Using your Notebook PC\n",
      "Getting started .....................................................................................30\n",
      "Charge your Notebook PC....................................................................30\n",
      "Lift to open the display panel.................................................................33\n",
      "Press the power button.........................................................................33\n",
      "Using the touchpad................................................................................34\n",
      "Using the keyboard...............................................................................41\n",
      "Function keys.....................................................................................41\n",
      "Hot Keys ...........................................................................................43\n",
      "Windows keys ...................................................................................43\n",
      "Using the NumberPad..........................................................................44\n",
      "\n",
      "Chapter 3: Working with Windows\n",
      "Starting for the first time.......................................................................46\n",
      "Start menu ..........................................................................................47\n",
      "Windows apps .....................................................................................49\n",
      "Working with Windows apps.................................................................50\n",
      "Customizing Windows apps ..................................................................50\n",
      "Task view............................................................................................52\n",
      "Widgets .............................................................................................53\n",
      "Snap feature .......................................................................................55\n",
      "Snap hotspots.....................................................................................55\n",
      "Action Center.......................................................................................57\n",
      "GameVisual ........................................................................................59\n",
      "Setting the OLED display........................................................................61\n",
      "Setting the Dark Mode ........................................................................61\n",
      "Turning off the display when not in use...................................................63\n",
      "Adjusting display brightness...................................................................65\n",
      "Auto-hide the taskbar..........................................................................67\n",
      "Setting the Dark Mode in Microsoft Office.................................................69\n",
      "Other keyboard shortcuts .......................................................................70\n",
      "Connecting to wireless networks ..............................................................72\n",
      "Wi-Fi ...............................................................................................72\n",
      "Bluetooth...........................................................................................73\n",
      "Airplane mode.....................................................................................74\n",
      "Connecting to wired networks.................................................................75\n",
      "Turning your Notebook PC off.................................................................77\n",
      "Putting your Notebook PC to sleep ..........................................................78\n",
      "Putting your Notebook PC into the lowest power mode..............................79\n",
      "\n",
      "Chapter 4: Power-On Self-Test (POST)\n",
      "The Power-On Self-Test (POST)................................................................82\n",
      "Using POST to access BIOS and Troubleshoot.............................................82\n",
      "BIOS .................................................................................................82\n",
      "Accessing BIOS ...................................................................................82\n",
      "Recovering your system..........................................................................83\n",
      "Performing a recovery option.................................................................84\n",
      "\n",
      "Tips and FAQs\n",
      "Useful tips for your Notebook PC .............................................................88\n",
      "Hardware FAQs.....................................................................................90\n",
      "Software FAQs......................................................................................93\n",
      "\n",
      "Appendices\n",
      "Legal information .................................................................................96\n",
      "Access Advance Patent Notice................................................................96\n",
      "Regulatory statements ..........................................................................97\n",
      "Federal Communications Commission Interference Statement......................97\n",
      "FCC RF Exposure Information..................................................................98\n",
      "FCC RF Caution Statement.....................................................................98\n",
      "FCC 5.925-7.125 GHz Caution Statement .................................................98\n",
      "ISED 5.925-7.125 GHz Caution Statement ................................................98\n",
      "Radio Frequency (RF) Exposure Information..............................................99\n",
      "Informations concernant l'exposition aux fréquences radio (RF)...................99\n",
      "Caution.............................................................................................99\n",
      "Mise en garde.....................................................................................99\n",
      "Compliance Statement of Innovation, Science and Economic\n",
      "Development Canada (ISED) ................................................................100\n",
      "Déclaration de conformité de innovation, Sciences et Développement\n",
      "économique Canada (ISED) ................................................................100\n",
      "Radiation Exposure Statement...............................................................101\n",
      "Déclaration d'exposition aux radiations..................................................101\n",
      "\n",
      "UL Safety Notices................................................................................102\n",
      "Power Safety Requirement...................................................................103\n",
      "TV Notices ........................................................................................103\n",
      "Macrovision Corporation Product Notice..................................................103\n",
      "Prevention of Hearing Loss...................................................................103\n",
      "Nordic Lithium Cautions (for lithium-ion batteries)...................................104\n",
      "Declaration of Compliance for Product Environmental Regulation................105\n",
      "EU REACH and Article 33.....................................................................105\n",
      "EU RoHS..........................................................................................105\n",
      "Japan JIS-C-0950 Material Declarations ..................................................105\n",
      "India RoHS........................................................................................105\n",
      "Coating Notice...................................................................................106\n",
      "ASUS Recycling/Takeback Services........................................................106\n",
      "Rechargeable Battery Recycling Service in North America..........................106\n",
      "Vietnam RoHS ..................................................................................106\n",
      "Regional notice for Singapore...............................................................106\n",
      "Ecodesign Directive.............................................................................107\n",
      "ENERGY STAR® Qualified Product ..........................................................107\n",
      "EPEAT Registered Products ..................................................................108\n",
      "Notices for removable batteries.............................................................108\n",
      "Avis concernant les batteries remplaçables..............................................108\n",
      "Wi-Fi Network Notice .........................................................................108\n",
      "Simplified EU Declaration of Conformity..................................................109\n",
      "Simplified UKCA Declaration of Conformity..............................................109\n",
      "\n",
      "About this manual\n",
      "This manual provides information about the hardware and software features of your Notebook PC, organized through the following chapters:\n",
      "\n",
      "Chapter 1: Hardware Setup\n",
      "This chapter details the hardware components of your Notebook PC.\n",
      "\n",
      "Chapter 2: Using your Notebook PC\n",
      "This chapter shows you how to use the different parts of your Notebook PC.\n",
      "\n",
      "Chapter 3: Working with Windows\n",
      "This chapter provides an overview of using Windows in your Notebook PC.\n",
      "\n",
      "Chapter 4: Power-On Self-Test (POST)\n",
      "This chapter shows you how to use POST to change the settings of your Notebook PC.\n",
      "\n",
      "Tips and FAQs\n",
      "This section presents some recommended tips, hardware FAQs, and software FAQs you can refer to for maintaining and fixing common issues with your Notebook PC.\n",
      "\n",
      "Appendices\n",
      "This section includes notices and safety statements for your Notebook PC.\n",
      "\n",
      "Conventions used in this manual\n",
      "To highlight key information in this manual, some text are presented as follows:\n",
      "\n",
      "IMPORTANT! This message contains vital information that must be followed to complete a task.\n",
      "\n",
      "NOTE: This message contains additional information and tips that can help complete tasks.\n",
      "\n",
      "WARNING! This message contains important information that must be followed to keep you safe while performing tasks and prevent damage to your Notebook PC's data and components.\n",
      "\n",
      "Icons\n",
      "The icons below indicate the devices you can use for completing a series of tasks or procedures on your Notebook PC.\n",
      "\n",
      "Image: A small square icon with a graphic of a hand pointer.\n",
      "= Use the touchpad.\n",
      "\n",
      "Image: A small rectangular icon with a graphic of a keyboard.\n",
      "= Use the keyboard.\n",
      "\n",
      "Typography\n",
      "Bold = This indicates a menu or an item that must be selected.\n",
      "Italic = This indicates sections that you can refer to in this manual.\n",
      "\n",
      "Safety precautions\n",
      "Using your Notebook PC\n",
      "\n",
      "Image: A laptop icon with an \"X\" over it, accompanied by a sun and snowflake symbol, indicating temperature restrictions.\n",
      "This Notebook PC should only be used in environments with ambient temperatures between 5°C (41°F) and 35°C (95°F).\n",
      "\n",
      "Image: A camera icon with \"DCIN\" and a circular arrow, overlaid with an \"X\", symbolizing a check on the rating label for the power adapter.\n",
      "Refer to the rating label on the bottom of your Notebook PC and ensure that your power adapter complies with this rating.\n",
      "\n",
      "Image: A laptop icon with an exclamation mark, suggesting caution regarding heat.\n",
      "Your Notebook PC can get warm to hot while in use or while charging the battery pack. Do not leave your Notebook PC on your lap or near any part of your body to prevent injury from heat. When working on your Notebook PC, do not place it on surfaces that can block the vents.\n",
      "\n",
      "Image: A laptop icon with a damaged power cord and an \"X\" over it, implying a warning against using faulty accessories.\n",
      "Do not use damaged power cords, accessories, and other peripherals with your Notebook PC.\n",
      "\n",
      "Image: A laptop icon with its lid open, covered by a blanket-like object with an \"X\" over it, indicating not to obstruct air circulation.\n",
      "While powered on, ensure that you do not carry or cover your Notebook PC with any materials that can reduce air circulation.\n",
      "\n",
      "Image: A laptop icon placed on an uneven surface, with an \"X\" over it, signifying unstable work surfaces are prohibited.\n",
      "Do not place your Notebook PC on uneven or unstable work surfaces.\n",
      "\n",
      "Image: A laptop icon being passed through an X-ray scanner, with an \"X\" over it, contextualizing that X-ray machines are acceptable but magnetic detectors are not.\n",
      "You can send your Notebook PC through x-ray machines (used on items placed on conveyor belts), but do not expose them to magnetic detectors and wands.\n",
      "\n",
      "Image: A laptop icon depicted in an airplane cabin, with an \"X\" over it, advising to check airline regulations for in-flight use.\n",
      "Contact your airline provider to learn about related in-flight services that can be used and restrictions that must be followed when using your Notebook PC in-flight.\n",
      "\n",
      "Caring for your Notebook PC\n",
      "\n",
      "Image: A laptop icon with its power plug disconnected and an \"X\" over it, representing the need to disconnect power before cleaning.\n",
      "Disconnect the AC power and remove the battery pack (if applicable) before cleaning your Notebook PC. Use a clean cellulose sponge or chamois cloth dampened with warm water. Remove any extra moisture from your Notebook PC using a dry cloth. Keep any liquids from entering the chassis or keyboard gap to prevent short circuit or corrosion.\n",
      "\n",
      "Image: A laptop icon near a chemical flask with an \"X\" over it, warning against using strong solvents.\n",
      "Do not use strong solvents such as alcohol, thinners, benzene, or other chemicals on or near your Notebook PC.\n",
      "\n",
      "Image: A laptop icon with an object placed on top of it, marked with an \"X\", indicating not to place anything on the device.\n",
      "Do not place objects on top of your Notebook PC.\n",
      "\n",
      "Image: A laptop icon near a magnet with an \"X\" over it, cautioning against strong magnetic or electrical fields.\n",
      "Do not expose your Notebook PC to strong magnetic or electrical fields.\n",
      "\n",
      "Image: A laptop icon exposed to rain or liquid drops, with an \"X\" over it, warning against moisture.\n",
      "Do not use or expose your Notebook PC near liquids, rain, or moisture.\n",
      "\n",
      "Image: A laptop icon surrounded by dust clouds, with an \"X\" over it, indicating to avoid dusty environments.\n",
      "Do not expose your Notebook PC to dusty environments.\n",
      "\n",
      "Image: A laptop icon near a leaking gas cylinder with an \"X\" over it, warning against gas leaks.\n",
      "Do not use your Notebook PC near gas leaks.\n",
      "\n",
      "Image: A laptop icon next to another electronic device with an \"X\" over it, advising to avoid close proximity to prevent electromagnetic interference.\n",
      "Do not place active electronic devices close to your Notebook PC to avoid electromagnetic wave interference to the display panel.\n",
      "\n",
      "Image: A laptop icon with a dollar sign and an \"X\" over it, warning against using the device for cryptocurrency mining.\n",
      "Do not use this Notebook PC for cryptocurrency mining (consuming a vast amount of electricity and time to gain convertible virtual currency) and/or related activities.\n",
      "\n",
      "Proper disposal\n",
      "\n",
      "Image: A crossed-out wheeled bin icon above a generic product, indicating that the product should not be disposed of in municipal waste.\n",
      "Do not throw your Notebook PC in municipal waste. This product has been designed to enable proper reuse of parts and recycling. The symbol of the crossed out wheeled bin indicates that the product (electrical, electronic equipment and mercury-containing button cell battery) should not be placed in municipal waste. Check local regulations for disposal of electronic products.\n",
      "\n",
      "Image: A crossed-out wheeled bin icon, specifically referring to battery disposal.\n",
      "Do not throw the battery in municipal waste. The symbol of the crossed out wheeled bin indicates that the battery should not be placed in municipal waste.\n",
      "\n",
      "Battery safety information\n",
      "Battery protection\n",
      "* Frequently charging a battery under high voltage may shorten the battery life. To protect the battery, once the battery is fully charged, the system may stop charging when the battery power is between 90% and 100%.\n",
      "\n",
      "NOTE: The level at which the battery resumes charging is usually set between 90% and 99%. The actual value may vary by model.\n",
      "\n",
      "* Charging or storing a battery in high ambient temperatures may result in permanent damage to the battery power capacity and rapidly shorten battery life. If the battery temperature is too high, the system may reduce the battery power charging capacity or even stop charging to protect the battery.\n",
      "\n",
      "* Battery power capacity may drop even when your device is powered off and disconnected from the AC power. This is normal as the system still draws a small amount of power from the battery.\n",
      "\n",
      "Standard battery care\n",
      "* If you are not using your device for a long period of time, ensure to charge the battery power to 50% then power off your device and disconnect the AC power adapter. Recharge the battery power to 50% every three months to avoid over-discharging and prevent damage to the battery.\n",
      "* Avoid charging the battery at high voltage for a prolonged period of time to extend the battery life. If you are constantly using AC power for your device, ensure to discharge the battery power to 50% at least once every two weeks. You can also adjust the settings from Battery Health Charging in MyASUS to help extend the battery life.\n",
      "* It is recommended to store your battery at temperatures between 5°C (41°F) and 35°C (95°F) with the battery power at 50%. You can also adjust the settings from Battery Health Charging in MyASUS to help extend the battery life.\n",
      "* Do not leave your battery in damp environments. Exposure to damp environments may increase the battery over-discharging rate. Low temperature environment may damage the chemicals inside the battery while high temperature or overheating may result in a risk of explosion.\n",
      "* Do not place your device or battery pack near radiators, fireplaces, furnaces, heaters, or any sources of heat with temperature exceeding 60°C (140°F). High temperature surrounding environment may result in an explosion or leakage that may cause fire.\n",
      "\n",
      "Chapter 1:\n",
      "Hardware Setup\n",
      "\n",
      "Getting to know your Notebook PC\n",
      "Front View\n",
      "\n",
      "NOTE: The keyboard's layout may vary per region or country. The front view may also vary in appearance depending on the Notebook PC model.\n",
      "\n",
      "Image: A detailed line drawing of the front view of a \"ROG STRIX\" gaming notebook PC with various components numbered. The display panel shows a dark screen with the ROG Strix logo on the bottom bezel. The main chassis features a full keyboard with a numeric keypad, a touchpad, and visible status indicators on the left side of the main body below the display hinge.\n",
      "* **1** points to the array microphones, typically located on the top bezel of the display.\n",
      "* **2** points to the camera indicator, a small light next to the camera.\n",
      "* **3** points to the camera, embedded in the top bezel.\n",
      "* **4** points to the display panel, the main screen area.\n",
      "* **5** points to the status indicators located on the left side of the laptop's base, near the hinge.\n",
      "* **6** points to the Caps Lock indicator light on the keyboard.\n",
      "* **7** points to the power button, located on the upper right side of the keyboard.\n",
      "* **8** points to the main QWERTY keyboard section.\n",
      "* **9** points to the NumberPad, a numeric keypad located on the right side of the keyboard.\n",
      "\n",
      "1 Array microphones\n",
      "The array microphones feature echo canceling, noise suppression, and beam forming functions for better voice recognition and audio recording.\n",
      "\n",
      "2 Camera indicator\n",
      "The camera indicator lights up when the built-in camera is in use.\n",
      "\n",
      "3 Camera\n",
      "The built-in camera allows you to take pictures or record videos using your Notebook PC.\n",
      "\n",
      "4 Display panel\n",
      "This high-definition display panel provides excellent viewing features for photos, videos, and other multimedia files on your Notebook PC.\n",
      "\n",
      "5 Status indicators\n",
      "The status indicators help identify the current hardware status of your Notebook PC.\n",
      "\n",
      "Image: A lightbulb icon.\n",
      "Power indicator\n",
      "The power indicator lights up when the Notebook PC is turned on and blinks slowly when the Notebook PC is in sleep mode.\n",
      "\n",
      "Image: A lightning bolt icon within a square.\n",
      "Two-color battery charge indicator\n",
      "The two-color LED provides a visual indication of the battery's charge status. Refer to the following table for details:\n",
      "\n",
      "Table: Battery Charge Indicator Status\n",
      "This table describes the meaning of different colors and states of the two-color battery charge indicator LED.\n",
      "\n",
      "| Color           | Status                                                                                               |\n",
      "| :-------------- | :--------------------------------------------------------------------------------------------------- |\n",
      "| **Solid White** | The Notebook PC is plugged to a power source and the battery power is 100%.                            |\n",
      "| **Solid Orange**| The Notebook PC is plugged to a power source, charging its battery, and the battery power is between 0% and 99%. |\n",
      "| **Blinking Orange**| The Notebook PC is running on battery mode and the battery power is less than 10%.                  |\n",
      "| **Lights off**  | The Notebook PC is running on battery mode and the battery power is between 10% to 100%.            |\n",
      "\n",
      "Image: A cylindrical icon with a lightning bolt symbol.\n",
      "Drive activity indicator\n",
      "This indicator lights up when your Notebook PC is accessing the internal storage drives.\n",
      "\n",
      "6 Capital lock indicator\n",
      "This indicator lights up when the capital lock function is activated. Using capital lock allows you to type capitalized letters (such as A, B, C) using your Notebook PC's keyboard.\n",
      "\n",
      "7 Power button\n",
      "Press the power button to turn your Notebook PC on or off. You can also use the power button to put your Notebook PC to sleep or hibernate mode and wake it up from sleep or hibernate mode.\n",
      "In the event that your Notebook PC becomes unresponsive, press and hold the power button for at least ten (10) seconds until your Notebook PC shuts down.\n",
      "\n",
      "8 Keyboard\n",
      "The keyboard provides full-sized QWERTY keys with a comfortable travel depth for typing. It also enables you to use the function keys, allows quick access to Windows, and controls other multimedia functions.\n",
      "\n",
      "NOTE: The keyboard layout differs by model or territory.\n"
     ]
    }
   ],
   "source": [
    "print(response.text)"
   ]
  },
  {
   "cell_type": "markdown",
   "id": "2485c886",
   "metadata": {},
   "source": [
    "Save the extracted text to a file so that we can review it later."
   ]
  },
  {
   "cell_type": "code",
   "execution_count": null,
   "id": "392adfec",
   "metadata": {},
   "outputs": [],
   "source": [
    "file_path = \"../data/extracted_text/rog_strix_gaming_notebook_pc_scanned_file.txt\"\n",
    "with open(file_path, \"w\") as f:\n",
    "    f.write(response.text)"
   ]
  },
  {
   "cell_type": "markdown",
   "id": "931eaf2d",
   "metadata": {},
   "source": [
    "### With open source models (Granite docling 258M)"
   ]
  },
  {
   "cell_type": "markdown",
   "id": "1899fae6",
   "metadata": {},
   "source": [
    "#### Using the transformers library"
   ]
  },
  {
   "cell_type": "markdown",
   "id": "16284ac0",
   "metadata": {},
   "source": [
    "Start by initializing the model and processor."
   ]
  },
  {
   "cell_type": "code",
   "execution_count": 110,
   "id": "0741562d",
   "metadata": {},
   "outputs": [],
   "source": [
    "import torch\n",
    "\n",
    "from transformers import AutoProcessor, AutoModelForImageTextToText\n",
    "\n",
    "DEVICE = \"cuda\" if torch.cuda.is_available() else \"cpu\"\n",
    "processor = AutoProcessor.from_pretrained(\"ibm-granite/granite-docling-258M\")\n",
    "model = AutoModelForImageTextToText.from_pretrained(\n",
    "    pretrained_model_name_or_path=\"ibm-granite/granite-docling-258M\",\n",
    "    dtype=torch.bfloat16,\n",
    ").to(DEVICE)"
   ]
  },
  {
   "cell_type": "markdown",
   "id": "b454ae06",
   "metadata": {},
   "source": [
    "Prepare the input to be passed to the model."
   ]
  },
  {
   "cell_type": "code",
   "execution_count": 111,
   "id": "97686529",
   "metadata": {},
   "outputs": [],
   "source": [
    "from transformers.image_utils import load_image\n",
    "\n",
    "image = load_image(\n",
    "    \"https://huggingface.co/ibm-granite/granite-docling-258M/resolve/main/assets/new_arxiv.png\"\n",
    ")\n",
    "messages = [\n",
    "    {\n",
    "        \"role\": \"user\",\n",
    "        \"content\": [\n",
    "            {\"type\": \"image\"},\n",
    "            {\"type\": \"text\", \"text\": \"Convert this page to docling.\"},\n",
    "        ],\n",
    "    },\n",
    "]\n",
    "\n",
    "prompt = processor.apply_chat_template(messages, add_generation_prompt=True)\n",
    "inputs = processor(text=prompt, images=[image], return_tensors=\"pt\")\n",
    "inputs = inputs.to(DEVICE)"
   ]
  },
  {
   "cell_type": "markdown",
   "id": "413a8f5a",
   "metadata": {},
   "source": [
    "Generate the output, which will contain the extracted text. Even with a GPU, it took around 5 minutes to process just one image. The `doc_tags` variable contains the raw output from the model."
   ]
  },
  {
   "cell_type": "code",
   "execution_count": 112,
   "id": "7941b0d1",
   "metadata": {},
   "outputs": [],
   "source": [
    "from docling_core.types.doc.document import DocTagsDocument\n",
    "\n",
    "generated_ids = model.generate(**inputs, max_new_tokens=8192)\n",
    "prompt_length = inputs.input_ids.shape[1]\n",
    "trimmed_generated_ids = generated_ids[:, prompt_length:]\n",
    "doc_tags = processor.batch_decode(\n",
    "    trimmed_generated_ids,\n",
    "    skip_special_tokens=False,\n",
    ")[0].lstrip()"
   ]
  },
  {
   "cell_type": "code",
   "execution_count": 113,
   "id": "fdd9151b",
   "metadata": {},
   "outputs": [
    {
     "name": "stdout",
     "output_type": "stream",
     "text": [
      "<doctag><page_header><loc_115><loc_27><loc_385><loc_34>Energy Budget of WASP-121 b from JWST/NIRISS Phase Curve</page_header>\n",
      "<page_header><loc_454><loc_28><loc_459><loc_34>9</page_header>\n",
      "<text><loc_41><loc_42><loc_239><loc_88>while the kernel weights are structured as ( N$_{slice}$ , N$_{time}$ ). This precomputation significantly accelerates our calculations, which is essential since the longitudinal slices are at least partially degenerate with one another. Consequently, the fits require more steps and walkers to ensure proper convergence.</text>\n",
      "<text><loc_41><loc_89><loc_239><loc_206>To address this, we follow a similar approach to our sinusoidal fits using emcee , but we increase the total number of steps to 100,000 and use 100 walkers. Na¨ıvely, the fit would include 2 N$_{slice}$ + 1 parameters: N$_{slice}$ for the albedo values, N$_{slice}$ for the emission parameters, and one additional scatter parameter, σ . However, since night-side slices do not contribute to the reflected light component, we exclude these albedo values from the fit. In any case, our choice of 100 walkers ensures a sufficient number of walkers per free parameter. Following Coulombe et al. (2025) we set an upper prior limit of 3 / 2 on all albedo slices as a fully Lambertian sphere ( A$_{i}$ = 1 ) corresponds to a geometric albedo of A$_{g}$ = 2 / 3. For thermal emission we impose a uniform prior between 0 and 500 ppm for each slice.</text>\n",
      "<text><loc_41><loc_207><loc_239><loc_269>We choose to fit our detrended lightcurves considering 4, 6 and 8 longitudinal slices ( N$_{slice}$ = 4 , 6 , 8). However, we show the results of the simplest 4 slice model. As in our previous fits, we conduct an initial run with 25,000 steps (25% of the total run) and use the maximumprobability parameters from this preliminary fit as the starting positions for the final 75,000-step run. We then discard the first 60% of the final run as burn-in.</text>\n",
      "<section_header_level_1><loc_73><loc_276><loc_207><loc_283>2.5. Planetary Effective Temperature</section_header_level_1>\n",
      "<text><loc_41><loc_286><loc_239><loc_348>Phase curves are the only way to probe thermal emission from the day and nightside of an exoplanet and hence determine its global energy budget (Partier & Crossfield 2018). The wavelength range of NIRISS/SOSS covers a large portion of the emitted flux of WASP-121 b ( ∼ 50-83%; see Figure 2), enabling a precise and robust constraint of the planet's energy budget.</text>\n",
      "<text><loc_41><loc_349><loc_239><loc_364>We convert the fitted F$_{p}$ / F$_{∗}$ emission spectra to brightness temperature by wavelength,</text>\n",
      "<formula><loc_60><loc_368><loc_238><loc_387>T _ { b r i g h t } = \\frac { h c } { k \\lambda } \\cdot \\left [ \\ln \\left ( \\frac { 2 b c ^ { 2 } } { \\lambda ^ { 5 } B _ { \\lambda , p l a n e t } } + 1 \\right ) \\right ] ^ { - 1 } ,</formula>\n",
      "<text><loc_41><loc_391><loc_178><loc_398>where the planet's thermal emission is</text>\n",
      "<formula><loc_84><loc_403><loc_238><loc_419>B _ { \\lambda , \\text {planet} } = \\frac { F _ { p } / F _ { * } } { ( R _ { p } / R _ { * } ) ^ { 2 } } \\cdot B _ { \\lambda , \\text {star} } \\, .</formula>\n",
      "<text><loc_41><loc_425><loc_239><loc_455>There are many ways of converting brightness temperatures to effective temperature, including the ErrorWeighted Mean (EWM), Power-Weighted mean (PWM) and with a Gaussian Process (Schwartz & Cowan 2015;</text>\n",
      "<chart><loc_273><loc_49><loc_454><loc_134><line_chart><caption><loc_261><loc_141><loc_459><loc_264>Figure 2. Estimated captured flux of the planet assuming the planet radiates as a blackbody. The captured flux is calculated as the ratio of the integrated blackbody emission within the instrument's band pass to the total emission over all wavelengths, i.e., γ = ∫ λ$_{max}$ λ$_{min}$ B ( λ, T ) dλ/ ∫ ∞ 0 B ( λ, T ) dλ . The captured flux fraction is shown for NIRISS SOSS [0.6-2.85 µ m] (red line); Hubble WFC3 [1.12-1.64 µ m] (dashed green line); NIRSpec G395H [2.7-5.15 µ m] (dash dotted blue line). The red-shaded region shows the temperature range on WASP-121 b based on our T$_{eff}$ estimates. Red dashed lines indicate the boundaries of the planet's temperature range within the NIRISS SOSS captured flux fraction. From this we estimate that these observations capture between 55% and 82% of the planet's bolometric flux, depending on orbital phase. Using the minimum temperature from the NAMELESS fit, this estimate decreases to 50%. In either case, the wavelength coverage of NIRISS exceeds that of any other instrument.</caption></chart>\n",
      "<text><loc_261><loc_273><loc_459><loc_359>Pass et al. 2019). In this work, we elect to compute our effective temperature estimates with a novel method that is essentially a combination of the PWM and EWM. We create the effective temperature by using a simple Monte Carlo process. First, we perturb our F$_{p}$ / F$_{s}$ emission spectra at each point in the orbit by a Gaussian based on the measurement uncertainty. Our new emission spectrum is then used to create an estimate of the brightness temperature spectrum. This process is repeated at each orbital phase. We then estimate the effective temperature, T$_{eff}$ for a given orbital phase as</text>\n",
      "<formula><loc_317><loc_362><loc_459><loc_382>T _ { \\text {eff} } = \\frac { \\sum _ { i = 1 } ^ { N } w _ { i } T _ { \\text {bright,} } , } { \\sum _ { i = 1 } ^ { N } w _ { i } } ,</formula>\n",
      "<text><loc_261><loc_384><loc_459><loc_414>where w$_{i}$ is the weight for the i -th wavelength given by the fraction of the planet's bolometric flux that falls within that wavelength bin scaled by the inverse variance of the measurement,</text>\n",
      "<formula><loc_305><loc_417><loc_459><loc_437>w _ { i } = \\frac { \\int _ { \\lambda _ { i } } ^ { \\lambda _ { i } + 1 } B ( \\lambda _ { i } , T _ { \\text {est} } ) \\, d \\lambda } { \\int _ { 0 } ^ { \\infty } B ( \\lambda _ { i } , T _ { \\text {est} } ) \\, d \\lambda } \\cdot \\frac { 1 } { \\sigma _ { i } ^ { 2 } } ,</formula>\n",
      "<text><loc_261><loc_440><loc_459><loc_454>with T$_{est}$ representing an estimated effective temperature at the orbital phase of interest. When computing</text>\n",
      "</doctag><|end_of_text|>\n"
     ]
    }
   ],
   "source": [
    "print(doc_tags)"
   ]
  },
  {
   "cell_type": "markdown",
   "id": "82158cd0",
   "metadata": {},
   "source": [
    "Render the output in markdown format."
   ]
  },
  {
   "cell_type": "code",
   "execution_count": 114,
   "id": "6d1b3277",
   "metadata": {},
   "outputs": [
    {
     "data": {
      "text/markdown": [
       "while the kernel weights are structured as ( N$\\_{slice}$ , N$\\_{time}$ ). This precomputation significantly accelerates our calculations, which is essential since the longitudinal slices are at least partially degenerate with one another. Consequently, the fits require more steps and walkers to ensure proper convergence.\n",
       "\n",
       "To address this, we follow a similar approach to our sinusoidal fits using emcee , but we increase the total number of steps to 100,000 and use 100 walkers. Na¨ıvely, the fit would include 2 N$\\_{slice}$ + 1 parameters: N$\\_{slice}$ for the albedo values, N$\\_{slice}$ for the emission parameters, and one additional scatter parameter, σ . However, since night-side slices do not contribute to the reflected light component, we exclude these albedo values from the fit. In any case, our choice of 100 walkers ensures a sufficient number of walkers per free parameter. Following Coulombe et al. (2025) we set an upper prior limit of 3 / 2 on all albedo slices as a fully Lambertian sphere ( A$\\_{i}$ = 1 ) corresponds to a geometric albedo of A$\\_{g}$ = 2 / 3. For thermal emission we impose a uniform prior between 0 and 500 ppm for each slice.\n",
       "\n",
       "We choose to fit our detrended lightcurves considering 4, 6 and 8 longitudinal slices ( N$\\_{slice}$ = 4 , 6 , 8). However, we show the results of the simplest 4 slice model. As in our previous fits, we conduct an initial run with 25,000 steps (25% of the total run) and use the maximumprobability parameters from this preliminary fit as the starting positions for the final 75,000-step run. We then discard the first 60% of the final run as burn-in.\n",
       "\n",
       "## 2.5. Planetary Effective Temperature\n",
       "\n",
       "Phase curves are the only way to probe thermal emission from the day and nightside of an exoplanet and hence determine its global energy budget (Partier &amp; Crossfield 2018). The wavelength range of NIRISS/SOSS covers a large portion of the emitted flux of WASP-121 b ( ∼ 50-83%; see Figure 2), enabling a precise and robust constraint of the planet's energy budget.\n",
       "\n",
       "We convert the fitted F$\\_{p}$ / F$\\_{∗}$ emission spectra to brightness temperature by wavelength,\n",
       "\n",
       "$$T _ { b r i g h t } = \\frac { h c } { k \\lambda } \\cdot \\left [ \\ln \\left ( \\frac { 2 b c ^ { 2 } } { \\lambda ^ { 5 } B _ { \\lambda , p l a n e t } } + 1 \\right ) \\right ] ^ { - 1 } ,$$\n",
       "\n",
       "where the planet's thermal emission is\n",
       "\n",
       "$$B _ { \\lambda , \\text {planet} } = \\frac { F _ { p } / F _ { * } } { ( R _ { p } / R _ { * } ) ^ { 2 } } \\cdot B _ { \\lambda , \\text {star} } \\, .$$\n",
       "\n",
       "There are many ways of converting brightness temperatures to effective temperature, including the ErrorWeighted Mean (EWM), Power-Weighted mean (PWM) and with a Gaussian Process (Schwartz &amp; Cowan 2015;\n",
       "\n",
       "Figure 2. Estimated captured flux of the planet assuming the planet radiates as a blackbody. The captured flux is calculated as the ratio of the integrated blackbody emission within the instrument's band pass to the total emission over all wavelengths, i.e., γ = ∫ λ$\\_{max}$ λ$\\_{min}$ B ( λ, T ) dλ/ ∫ ∞ 0 B ( λ, T ) dλ . The captured flux fraction is shown for NIRISS SOSS [0.6-2.85 µ m] (red line); Hubble WFC3 [1.12-1.64 µ m] (dashed green line); NIRSpec G395H [2.7-5.15 µ m] (dash dotted blue line). The red-shaded region shows the temperature range on WASP-121 b based on our T$\\_{eff}$ estimates. Red dashed lines indicate the boundaries of the planet's temperature range within the NIRISS SOSS captured flux fraction. From this we estimate that these observations capture between 55% and 82% of the planet's bolometric flux, depending on orbital phase. Using the minimum temperature from the NAMELESS fit, this estimate decreases to 50%. In either case, the wavelength coverage of NIRISS exceeds that of any other instrument.\n",
       "\n",
       "line chart\n",
       "\n",
       "<!-- image -->\n",
       "\n",
       "Pass et al. 2019). In this work, we elect to compute our effective temperature estimates with a novel method that is essentially a combination of the PWM and EWM. We create the effective temperature by using a simple Monte Carlo process. First, we perturb our F$\\_{p}$ / F$\\_{s}$ emission spectra at each point in the orbit by a Gaussian based on the measurement uncertainty. Our new emission spectrum is then used to create an estimate of the brightness temperature spectrum. This process is repeated at each orbital phase. We then estimate the effective temperature, T$\\_{eff}$ for a given orbital phase as\n",
       "\n",
       "$$T _ { \\text {eff} } = \\frac { \\sum _ { i = 1 } ^ { N } w _ { i } T _ { \\text {bright,} } , } { \\sum _ { i = 1 } ^ { N } w _ { i } } ,$$\n",
       "\n",
       "where w$\\_{i}$ is the weight for the i -th wavelength given by the fraction of the planet's bolometric flux that falls within that wavelength bin scaled by the inverse variance of the measurement,\n",
       "\n",
       "$$w _ { i } = \\frac { \\int _ { \\lambda _ { i } } ^ { \\lambda _ { i } + 1 } B ( \\lambda _ { i } , T _ { \\text {est} } ) \\, d \\lambda } { \\int _ { 0 } ^ { \\infty } B ( \\lambda _ { i } , T _ { \\text {est} } ) \\, d \\lambda } \\cdot \\frac { 1 } { \\sigma _ { i } ^ { 2 } } ,$$\n",
       "\n",
       "with T$\\_{est}$ representing an estimated effective temperature at the orbital phase of interest. When computing"
      ],
      "text/plain": [
       "<IPython.core.display.Markdown object>"
      ]
     },
     "metadata": {},
     "output_type": "display_data"
    }
   ],
   "source": [
    "from IPython.display import Markdown, display\n",
    "from docling_core.types.doc.document import DoclingDocument\n",
    "\n",
    "doctags_doc = DocTagsDocument.from_doctags_and_image_pairs([doc_tags], [image])\n",
    "document = DoclingDocument.load_from_doctags(doctags_doc, document_name=\"Document\")\n",
    "extracted_text_markdown = document.export_to_markdown()\n",
    "display(Markdown(extracted_text_markdown))"
   ]
  },
  {
   "cell_type": "markdown",
   "id": "27591d54",
   "metadata": {},
   "source": [
    "Save the extracted text to a file so that we can review it later."
   ]
  },
  {
   "cell_type": "code",
   "execution_count": 115,
   "id": "1d49d257",
   "metadata": {},
   "outputs": [],
   "source": [
    "file_path = \"../data/extracted_text/granite_docling_output.txt\"\n",
    "with open(file_path, \"w\") as f:\n",
    "    f.write(extracted_text_markdown)"
   ]
  },
  {
   "cell_type": "markdown",
   "id": "542c89d9",
   "metadata": {},
   "source": [
    "#### Using llama.cpp"
   ]
  },
  {
   "cell_type": "markdown",
   "id": "973dc9cc",
   "metadata": {},
   "source": [
    "For some reason, using transformers is very slow, even with a GPU. So, let's try using `llama.cpp` instead. First, download the model in `GGUF` format from [ggml-org repository](https://huggingface.co/ggml-org/granite-docling-258M-GGUF/tree/main). Choose which quantization you want to use. This model is small, so I went with half precision (f16).\n",
    "\n",
    "Download two files, one for the language model, and the other for the vision encoder (mmproj). For the 16-bit model, the files are:\n",
    "\n",
    "- `granite-docling-258M-f16.gguf`\n",
    "- `mmproj-granite-docling-258M-f16.gguf`\n",
    "\n",
    "After that serve the model using [llama-server](https://github.com/ggml-org/llama.cpp/blob/master/tools/server/README.md):\n",
    "\n",
    "```bash\n",
    "llama-server \\\n",
    "  --model ~/.cache/llama.cpp/granite-docling-258M-f16.gguf \\\n",
    "  --mmproj ~/.cache/llama.cpp/mmproj-granite-docling-258M-f16.gguf \\\n",
    "  --n-gpu-layers 999 \\\n",
    "  --ctx-size 4096 \\\n",
    "  --port 36912\n",
    "```"
   ]
  },
  {
   "cell_type": "markdown",
   "id": "230644b2",
   "metadata": {},
   "source": [
    "Here we define a function that takes an image path as input, encodes the image in base64 format, and returns a data URI."
   ]
  },
  {
   "cell_type": "code",
   "execution_count": null,
   "id": "0564a887",
   "metadata": {},
   "outputs": [],
   "source": [
    "import base64\n",
    "import mimetypes\n",
    "\n",
    "\n",
    "def encode_image_to_data_uri(image_path: str) -> str:\n",
    "    mime_type, _ = mimetypes.guess_type(image_path)\n",
    "    if mime_type is None:\n",
    "        mime_type = \"application/octet-stream\"\n",
    "\n",
    "    with open(image_path, \"rb\") as image_file:\n",
    "        encoded_string = base64.b64encode(image_file.read()).decode(\"utf-8\")\n",
    "\n",
    "    return f\"data:{mime_type};base64,{encoded_string}\"\n",
    "\n",
    "\n",
    "path_to_image = \"../images/test_ocr.png\"\n",
    "image_data_uri = encode_image_to_data_uri(path_to_image)"
   ]
  },
  {
   "cell_type": "code",
   "execution_count": null,
   "id": "28084501",
   "metadata": {},
   "outputs": [],
   "source": [
    "import json\n",
    "import requests\n",
    "\n",
    "\n",
    "LLAMA_SERVER_URL = \"http://localhost:36912\"\n",
    "\n",
    "\n",
    "def extract_text_from_images(model_name: str, prompt: str, image_data_uri: str) -> str:\n",
    "    url = f\"{LLAMA_SERVER_URL}/v1/chat/completions\"\n",
    "    headers = {\"Content-Type\": \"application/json\"}\n",
    "\n",
    "    messages = [\n",
    "        {\n",
    "            \"role\": \"user\",\n",
    "            \"content\": [\n",
    "                {\"type\": \"text\", \"text\": prompt},\n",
    "                {\"type\": \"image_url\", \"image_url\": {\"url\": image_data_uri}},\n",
    "            ],\n",
    "        }\n",
    "    ]\n",
    "\n",
    "    data = {\n",
    "        \"messages\": messages,\n",
    "        \"model\": model_name,\n",
    "        \"max_tokens\": 4096,\n",
    "    }\n",
    "\n",
    "    try:\n",
    "        response = requests.post(url, headers=headers, data=json.dumps(data))\n",
    "        response.raise_for_status()\n",
    "        response_json = response.json()\n",
    "\n",
    "        assistant_message = response_json[\"choices\"][0][\"message\"][\"content\"]\n",
    "        return assistant_message.strip()\n",
    "\n",
    "    except Exception as e:\n",
    "        print(f\"An error occurred: {e}\")\n",
    "        return \"\"\n",
    "\n",
    "\n",
    "model_to_use = \"granite-docling-258M\"\n",
    "text_prompt = \"Convert this page to docling.\"\n",
    "\n",
    "\n",
    "doc_tags_llama_cpp = extract_text_from_images(model_to_use, text_prompt, image_data_uri)"
   ]
  },
  {
   "cell_type": "markdown",
   "id": "01b893df",
   "metadata": {},
   "source": [
    "Ah, look at the speed difference! It took only 5 seconds to process the same image instead of 5 minutes. Let's see the output."
   ]
  },
  {
   "cell_type": "code",
   "execution_count": 32,
   "id": "0de02759",
   "metadata": {},
   "outputs": [
    {
     "name": "stdout",
     "output_type": "stream",
     "text": [
      "E N ER Y G U B E T O F W A S P -121 b F O R M J W S T / N I R I S S P H a s e C U r v e\n",
      "while the kernel weights are structured as ( N$_{slice}$ , N$_{time}$ ). This precomputation significantly accelerates our calculations, which is essential since the longitudinal slices are at least partially degenerate with one another. Consequently, the fits require more steps and walkers to ensure proper convergence.\n",
      "To address this, we follow a similar approach to our sinusoidal fits using emcee , but we increase the total number of steps to 100,000 and use 100 walkers. Naïvely, the fit would include 2 N$_{slice}$ + 1 parameters: N$_{slice }$ for the albedo values, N$_{slice }$ for the emission parameters, and one additional scatter parameter, σ . However, since night-side slices do not contribute to the reflected light component, we exclude these albedo values from the fit. In any case, our choice of 100 walkers ensures a sufficient number of walkers per free parameter. Following Coulombe et al. (2025) we set an upper prior limit of 3/2 on all albedo slices as a fully Lambertian sphere ( A$_{i}$ = 1) corresponds to a geometric albedo of A$_{g}$ = 2/3. For thermal emission we impose a uniform prior between 0 and 500 ppm for each slice.\n",
      "We choose to fit our detrended lightcurves considering 4, 6 and 8 longitudinal slices ( N$_{slice}$ = 4, 6, 8). However, we show the results of the simplest 4 slice model. As in our previous fits, we conduct an initial run with 25,000 steps (25% of the total run) and use the maximumprobability parameters from this preliminary fit as the starting positions for the final 75,000-step run. We then discard the first 60% of the final run as burn-in.\n",
      "2.5. Planetary Effective Temperature\n",
      "Phase curves are the only way to probe thermal emission from the day and nightside of an exoplanet and hence determine its global energy budget (Parrantier & Crossfield 2018 ). The wavelength range of NIRISS/SOSS covers a large portion of the emitted flux of WASP-121 b ( ∼ 50-83%; see Figure 2 ), enabling a precise and robust constraint of the planet's energy budget.\n",
      "We convert the fitted F$_{p}$ / F$_{∗}$ emission spectra to brightness temperature by wavelength,\n",
      "T _ { \\text {bright} } = \\frac { b c } { k \\lambda } \\cdot \\left [ \\ln \\left ( \\frac { 2 b c ^ { 2 } } { \\lambda ^ { 5 } B _ { \\lambda , \\text {planet} } } + 1 \\right ) \\right ] ^ { - 1 } \\ , \\quad ( 1 6 )\n",
      "where the planet's thermal emission is\n",
      "B _ { \\lambda , p l a n e t } = \\frac { F _ { p } / F _ { * } } { ( R _ { p } / R _ { * } ) ^ { 2 } } \\cdot B _ { \\lambda , s t a r } \\, .\n",
      "There are many ways of converting brightness temperatures to effective temperature, including the ErrorWeighted Mean (EWM), Power-Weighted mean (PWM) and with a Gaussian Process (Schwartz & Cowan 2015 ;\n",
      "9\n",
      "Figure 2. Estimated captured flux of the planet assuming the planet radiates as a blackbody. The captured flux is calculated as the ratio of the integrated blackbody emission within the instrument's band pass to the total emission over all wavelengths, i.e., γ = ∫$_{λ}$$_{max}$$_{λ}$$_{min}$ B (λ,T) dλ/ ∫$_{0}$ ∞ B (λ,T) d λ . The captured flux fraction is shown for NIRISS SOSS [0.6-2.85 μ m] (red line); Hubble WFC3 [1.12-1.64 μ m] (dashed green line); NIRSpec G395H [2.7-5.15 μ m] (dash dotted blue line). The red-shaded region shows the temperature range on WASP-121 b based on T$_{eff}$ estimates. Red dashed lines indicate the boundaries of the planet's temperature range within the NIRISS SOSS captured flux fraction. From this we estimate that these observations capture between 55% and 82% of the planet's bolometric flux, depending on orbital phase. Using the minimum temperature from the NAMELESS fit, this estimate decreases to 50%. In either case, the wavelength coverage of NIRISS exceeds that of any other instrument.\n",
      "Pass et al. 2019 ). In this work, we elect to compute our effective temperature estimates with a novel method that is essentially a combination of the PWM and EWM. We create the effective temperature by using a simple Monte Carlo process. First, we perturb our F$_{p}$ / F$_{s}$ emission spectra at each point in the orbit by a Gaussian based on the measurement uncertainty. Our new emission spectrum is then used to create an estimate of the brightness temperature spectrum. This process is repeated at each orbital phase. We then estimate the effective temperature, T$_{eff}$ for a given orbital phase as\n",
      "T _ { \\text {eff} } = \\frac { \\sum _ { i = 1 } ^ { N } w _ { i } T _ { \\text {bright} , i } } { \\sum _ { i = 1 } ^ { N } w _ { i } } ,\n",
      "where w$_{i}$ is the weight for the i -th wavelength given by the fraction of the planet's bolometric flux that falls within that wavelength bin scaled by the inverse variance of the measurement,\n",
      "w _ { i } = \\frac { \\int _ { \\lambda ^ { i + 1 } } ^ { \\lambda ^ { i + 1 } } B ( \\lambda _ { i } , T _ { \\text {est} } ) \\, d \\lambda } { \\int _ { 0 } ^ { \\infty } B ( \\lambda _ { i } , T _ { \\text {est} } ) \\, d \\lambda } \\cdot \\frac { 1 } { \\sigma _ { i } ^ { 2 } } ,\n",
      "with T$_{est}$ representing an estimated effective temperature at the orbital phase of interest. When computing\n",
      "\n"
     ]
    }
   ],
   "source": [
    "import re\n",
    "\n",
    "\n",
    "def extract_inner_text(text_chunk: str) -> str:\n",
    "    return re.sub(r\"<.*?>\", \"\", text_chunk, flags=re.DOTALL).strip()\n",
    "\n",
    "\n",
    "extracted_text_llama_cpp = \"\"\n",
    "for line in doc_tags_llama_cpp.splitlines():\n",
    "    extracted_text_llama_cpp += extract_inner_text(line) + \"\\n\"\n",
    "\n",
    "print(extracted_text_llama_cpp)"
   ]
  },
  {
   "cell_type": "markdown",
   "id": "a5d4dada",
   "metadata": {},
   "source": [
    "Save the extracted text to a file so that we can review it later."
   ]
  },
  {
   "cell_type": "code",
   "execution_count": 13,
   "id": "5d810aa5",
   "metadata": {},
   "outputs": [],
   "source": [
    "file_path = \"../data/extracted_text/granite_docling_output.txt\"\n",
    "with open(file_path, \"w\") as f:\n",
    "    f.write(extracted_text_llama_cpp)"
   ]
  },
  {
   "cell_type": "markdown",
   "id": "23fc0bbc",
   "metadata": {},
   "source": [
    "Now, let's use the same model on the scanned PDF."
   ]
  },
  {
   "cell_type": "code",
   "execution_count": 34,
   "id": "9a79bcdc",
   "metadata": {},
   "outputs": [
    {
     "name": "stderr",
     "output_type": "stream",
     "text": [
      "100%|██████████| 19/19 [00:21<00:00,  1.13s/it]"
     ]
    },
    {
     "name": "stdout",
     "output_type": "stream",
     "text": [
      "E25294\n",
      "BC REVISED EDITION VS DECEMBER 2024\n",
      "ASUS PROVIDES THIS MANUAL 'AS IS' WITHOUT WARRANTY OF ANY KIND, EITHER EXPRESS OR IMPLIED, INCLUDING BUT NOT LIMITED TO THE IMPLIED WARRANTIES OR CONDITIONS OF MERCHANTABILITY OR FITNESS FOR A PARTICULAR PURPOSE, IN NO EVENT SHALL ASUS, ITS DIRECTORS, OFFICERS, EMPLOYEES OR AGENTS BE LIABLE FOR ANY INDIRECT, SPECIAL, INCIDENTAL, OR CONSEQUENTIAL DAMAGES (INCLUDING DAMAGES FOR LOSS OF PROFITS, LOSS OF BUSINESS, LOSS OF USE OR DATA, INTERRUPTION OF BUSINESS AND THE LIKE), EVEN IF ASUS HAS BEEN ADVISED OF THE POSSIBILITY OF SUCH DAMAGES ARISING FROM ANY DEFECT OR ERROR IN THIS MANUAL OR PRODUCT.\n",
      "Products and corporate names appearing in this manual may or may not be registered trademarks or copyrights of their respective companies, and are used only for identification or explanation and to the owners' benefit, without intent to infringe.\n",
      "SPECIFICATIONS AND INFORMATION CONTAINED IN THIS MANUAL ARE FURNISHED FOR INFORMATIONAL USE ONLY, AND ARE SUBJECT TO CHANGE AT ANY TIME WITHOUT NOTICE, AND SHOULD NOT BE CONSTRUED AS A COMMITMENT BY ASUS. ASUS ASSUMES NO RESPONSIBILITY OR LIABILITY FOR ANY ERRORS OR INACCURACIES THAT MAY APPEAR IN THIS MANUAL, INCLUDING THE PRODUCTS AND SOFTWARE DESCRIBED IN IT.\n",
      "Copyright '2024 ASUSTek COMPUTER INC. All Rights Reserved.\n",
      "Circumstances may arise where becuase of a default on ASUS' part or other liability, you are entitled to recover damages from ASUS. In each such instance, regardless of the basis on which you are entitled to claim damages from ASUS, ASUS is liable for no more than damages for bodily injury (including death) and damage to real property and tangible personal property; or any other actual and direct damages resulted from omission or failure of performing legal duties under this Warranty Statement, up to the listed contract price of each product.\n",
      "ASUS will only be responsible for or indemnify you for loss, damages or claims based in contract, tort or infringement under this Warranty Statement.\n",
      "This limit also applies to ASUS' suppliers and its reseller. It is the maximum for which ASUS, its suppliers, and your reseller are collectively responsible.\n",
      "UNDER NO CIRCUMSTANCES IS ASUS LIABLE FOR ANY OF THE FOLLOWING: (1) THIRD-PARTY CLAIMS AGAINST YOU FOR DAMAGES; (2) LOSS OF, OR DAMAGE TO, YOUR RECORDS OR DATA; OR (3) SPECIAL, INCIDENTAL, OR INDIRECT DAMAGES OR FOR ANY ECONOMIC CONSEQUENTIAL DAMAGES (INCLUDING LOST PROFITS OR SAVINGS), EVEN IF ASUS, ITS SUPPLIERS OR YOUR RESELLER IS INFORMED OF THEIR POSSIBILITY.\n",
      "SERVICE AND SUPPORT\n",
      "Visit our multi-language website at https://www.asus.com/support/.\n",
      "MyASUS offers a variety of support features including troubleshooting, products performance optimization, ASUS software integration, and helps you to organize personal desktop and increase storage space. For more details, please visit itps://www.asus.com/support/FAQ/1038301/\n",
      "3\n",
      "4\n",
      "5\n",
      "6\n",
      "About this manual\n",
      "This manual provides information about the hardware and software features of your Notebook PC, organized through the following chapters:\n",
      "Chapter 1: Hardware Setup\n",
      "This chapter details the hardware components of your Notebook PC.\n",
      "Chapter 2: Using your Notebook PC\n",
      "This chapter shows you how to use the different parts of your Notebook PC.\n",
      "Chapter 3: Working with Windows\n",
      "This chapter provides an overview of using Windows in your Notebook PC.\n",
      "Chapter 4: Power-On Self-Test (POST)\n",
      "This chapter shows you how to use POST to change the settings of your Notebook PC.\n",
      "Tips and FAQs\n",
      "This section presents some recommended tips, hardware FAQs, and software FAQs you can refer to for maintaining and fixing common issues with your Notebook PC.\n",
      "Appendices\n",
      "This section includes notices and safety statements for your Notebook PC.\n",
      "7\n",
      "8\n",
      "This Notebook PC should only be used in environments with ambient temperatures between 5°C (41°F) and 35°C (95°F).\n",
      "Refer to the rating label on the bottom of your Notebook PC and ensure that your power adapter complies with this rating.\n",
      "Your Notebook PC can get warm to hot while in use or while charging the battery pack. Do not leave your Notebook PC on your lap or near any part of your body to prevent injury from heat. When working on your Notebook PC, do not place it on surfaces that can block the vents.\n",
      "Do not use damaged power cords, accessories, and other peripherals with your Notebook PC.\n",
      "While powered on, ensure that you do not carry or cover your Notebook PC with any materials that can reduce air circulation.\n",
      "Do not place your Notebook PC on uneven or unstable work surfaces.\n",
      "You can send your Notebook PC through x-ray machines (used on items placed on conveyor belts), but do not expose them to magnetic detectors and wand.\n",
      "Contact your airline provider to learn about related in-flight services that can be used and restrictions that must be followed when using your Notebook PC in-flight.\n",
      "9\n",
      "10\n",
      "Disconnect the AC power and remove the battery pack (if applicable) before cleaning your Notebook PC. Use a clean cellulose sponge or chamois cloth dampened with warm water. Remove any extra moisture from your Notebook PC using a dry cloth. Keep any liquids from entering the chassis or keyboard gap to prevent short circuit or corrosion.\n",
      "Do not use strong solvents such as alcohol, thinners, benzene; or other chemicals on or near your Notebook PC.\n",
      "Do not place objects on top of your Notebook PC.\n",
      "Do not expose your Notebook PC to strong magnetic or electrical fields.\n",
      "Do not use or expose your Notebook PC near liquids; rain; or moisture.\n",
      "Do not expose your Notebook PC to dusty environments.\n",
      "11\n",
      "12\n",
      "· If you are not using your device for a long period of time, ensure to charge the battery power to 50% then power off your device and disconnect the AC power adapter. Recharge the battery power to 50% every three months to avoid over-discharging and prevent damage to the battery.\n",
      "· Avoid charging the battery at high voltage for a prolonged period of time to extend the battery life. If you are constantly using AC power for your device, ensure to discharge the battery power to 50% at least once every two weeks. You can also adjust the settings from Battery Health Charging in MyASUS to help extend the battery life.\n",
      "· It is recommended to store your battery at temperatures between 5°C (41°F) and 35°C (95°F) with the battery power at 50%. You can also adjust the settings from Battery Health Charging in MyASUS to help extend the battery life.\n",
      "· Do not leave your battery in damp environments. Exposure to damp environments may increase the battery over-discharging rate. Low temperature environment may damage the chemicals inside the battery while high temperature or overheating may result in a risk of explosion.\n",
      "· Do not place your device or battery pack near radiators, fireplaces, furnaces, heaters, or any sources of heat with temperature exceeding 60°C (140°F). High temperature surrounding environment may result in an explosion or leakage that may cause fire.\n",
      "\n",
      "13\n",
      "Chapter 1: Hardware Setup\n",
      "15\n",
      "16\n",
      "1 Array microphones\n",
      "The array microphones feature echo canceling, noise suppression, and beam forming functions for better voice recognition and audio recording.\n",
      "2 Camera indicator\n",
      "\n",
      "The camera indicator lights up when the built-in camera is in use.\n",
      "3\n",
      "Camera\n",
      "The built-in camera allows you to take pictures or record videos using your Notebook PC.\n",
      "4\n",
      "Display panel\n",
      "This high-definition display panel provides excellent viewing features for photos, videos, and other multimedia files on your Notebook PC.\n",
      "17\n",
      "5\n",
      "\n",
      "18\n",
      "\n",
      "\n",
      "\n",
      "Power indicator\n",
      "The power indicator lights up when the Notebook PC is turned on and blinks slowly when the Notebook PC is in sleep mode.\n",
      "Two-color battery charge indicator\n",
      "The two-color LED provides a visual indication of the battery's charge status. Refer to the following table for details:\n",
      "Color\n",
      "Solid White\n",
      "Solid Orange\n",
      "Blinking Orange\n",
      "Lights off\n",
      "Drive activity indicator\n",
      "This indicator lights up when your Notebook PC is accessing the internal storage drives.\n",
      "19\n",
      "Capital lock indicator\n",
      "7\n",
      "8\n",
      "8\n",
      "20\n",
      "This indicator lights up when the capital lock function is activated. Using capital lock allows you to type capitalized letters (such as A, B, C) using your Notebook PC's keyboard.\n",
      "Press the power button to turn your Notebook PC on or off. You can also use the power button to put your Notebook PC to sleep or hibernate mode and wake it up from sleep or hibernate mode.\n",
      "In the event that your Notebook PC becomes unresponsive, press and hold the power button for at least ten (10) seconds until your Notebook PC shuts down.\n",
      "The keyboard provides full-sized QWERTY keys with a comfortable travel depth for typing. It also enables you to use the function keys, allows quick access to Windows, and controls other multimedia functions.\n"
     ]
    },
    {
     "name": "stderr",
     "output_type": "stream",
     "text": [
      "\n"
     ]
    }
   ],
   "source": [
    "from tqdm import tqdm\n",
    "\n",
    "extracted_text_from_all_pages = \"\"\n",
    "model_to_use = \"granite-docling-258M\"\n",
    "text_prompt = \"Convert this page to docling.\"\n",
    "\n",
    "for page in tqdm(document, total=document.page_count):\n",
    "    pix = page.get_pixmap(dpi=300)\n",
    "    image_bytes = pix.tobytes(\"png\")\n",
    "    encoded_string = base64.b64encode(image_bytes).decode(\"utf-8\")\n",
    "    data_uri = f\"data:image/png;base64,{encoded_string}\"\n",
    "\n",
    "    extracted_text_from_page = extract_text_from_images(\n",
    "        model_name=model_to_use, prompt=text_prompt, image_data_uri=data_uri\n",
    "    )\n",
    "    extracted_text_from_page = extract_inner_text(extracted_text_from_page)\n",
    "    extracted_text_from_all_pages += extracted_text_from_page + \"\\n\"\n",
    "\n",
    "print(extracted_text_from_all_pages.strip())"
   ]
  },
  {
   "cell_type": "markdown",
   "id": "14a867d6",
   "metadata": {},
   "source": [
    "Save the extracted text to a file so that we can review it later."
   ]
  },
  {
   "cell_type": "code",
   "execution_count": 44,
   "id": "4ed854f5",
   "metadata": {},
   "outputs": [],
   "source": [
    "file_path = \"../data/extracted_text/granite_docling_output.txt\"\n",
    "with open(file_path, \"w\") as f:\n",
    "    f.write(extracted_text_from_all_pages)"
   ]
  }
 ],
 "metadata": {
  "kernelspec": {
   "display_name": "benchmark_embedding_models_course",
   "language": "python",
   "name": "python3"
  },
  "language_info": {
   "codemirror_mode": {
    "name": "ipython",
    "version": 3
   },
   "file_extension": ".py",
   "mimetype": "text/x-python",
   "name": "python",
   "nbconvert_exporter": "python",
   "pygments_lexer": "ipython3",
   "version": "3.12.11"
  }
 },
 "nbformat": 4,
 "nbformat_minor": 5
}
